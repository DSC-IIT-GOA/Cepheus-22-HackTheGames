{
 "cells": [
  {
   "cell_type": "markdown",
   "metadata": {},
   "source": [
    "# <center>T-rex run/ Chrome Dino game automation!</center>\n",
    "                                                                                                       -- HackTheGames\n",
    "## **Let's first import all the necessary libraries!**"
   ]
  },
  {
   "cell_type": "code",
   "execution_count": null,
   "metadata": {},
   "outputs": [],
   "source": [
    "import cv2\n",
    "import numpy as np\n",
    "import matplotlib.pyplot as plt"
   ]
  },
  {
   "cell_type": "markdown",
   "metadata": {},
   "source": [
    "## **Let's learn how to take screenshot!**\n",
    "### *For this, we will use Pillow library!*"
   ]
  },
  {
   "cell_type": "code",
   "execution_count": null,
   "metadata": {},
   "outputs": [],
   "source": [
    "from PIL import ImageGrab as IG"
   ]
  },
  {
   "cell_type": "markdown",
   "metadata": {},
   "source": [
    "### **We will use the ImageGrab.grab() function to take a screen short!**"
   ]
  },
  {
   "cell_type": "code",
   "execution_count": null,
   "metadata": {
    "scrolled": false
   },
   "outputs": [],
   "source": [
    "ssc = IG.grab()\n",
    "\n",
    "# Let's show the image as an output\n",
    "plt.figure(figsize = (30,50))\n",
    "plt.imshow(ssc)\n",
    "plt.show()"
   ]
  },
  {
   "cell_type": "markdown",
   "metadata": {},
   "source": [
    "## **But, what if you want to take screenshort of a specific area or location in your screen!**\n",
    "### *We can do this by mentioning the bbox value in the IG.grab(bbox)) function!*\n",
    "### *bbox = (top_left_x, top_left_y, bottom_righr_x, bottom_right_y)*\n",
    "### **Take the screenshort of the box mentioned below!**"
   ]
  },
  {
   "cell_type": "code",
   "execution_count": null,
   "metadata": {},
   "outputs": [],
   "source": [
    "sample_img = cv2.imread('screen.png')\n",
    "sample_img = cv2.cvtColor(sample_img, cv2.COLOR_RGB2BGR)\n",
    "plt.figure(figsize = (30,50))\n",
    "plt.imshow(sample_img)\n",
    "plt.show()"
   ]
  },
  {
   "cell_type": "markdown",
   "metadata": {},
   "source": [
    "## **We have to use the coordinates as mention above!**\n",
    "### **Tip**:<br>*To know the exact coordinates, take the screenshort of your screen and open with paint, then click on the view bar and select Rulers checkbox! Then your pointer will show the coordinates below at bottom left!*"
   ]
  },
  {
   "cell_type": "code",
   "execution_count": null,
   "metadata": {},
   "outputs": [],
   "source": [
    "ssc = IG.grab(bbox = (163,141,919,242))\n",
    "\n",
    "# Since the image got from IG.grab() is a pillow object we need to convert it into an array!\n",
    "ssc = np.array(ssc)\n",
    "\n",
    "# Let's show the image as an output\n",
    "plt.figure(figsize = (30,50))\n",
    "plt.imshow(ssc)\n",
    "plt.show()"
   ]
  },
  {
   "cell_type": "markdown",
   "metadata": {},
   "source": [
    "### **Now Let's make a function which will return the screensort of the specific area/location!**"
   ]
  },
  {
   "cell_type": "code",
   "execution_count": null,
   "metadata": {},
   "outputs": [],
   "source": [
    "def grab_screen(bbox=None):\n",
    "    screenshort = IG.grab(bbox)\n",
    "    screenshort = np.array(screenshort)\n",
    "    # since we have to use this image in the opencv that's why we have to convert the RGB image into BGR image!\n",
    "    screenshort = cv2.cvtColor(screenshort, cv2.COLOR_RGB2BGR)\n",
    "    return screenshort"
   ]
  },
  {
   "cell_type": "markdown",
   "metadata": {},
   "source": [
    "### **Let's check this function!**"
   ]
  },
  {
   "cell_type": "code",
   "execution_count": null,
   "metadata": {},
   "outputs": [],
   "source": [
    "ssc_img = grab_screen((163,141,919,242))\n",
    "cv2.imshow('Check',ssc_img)\n",
    "key = cv2.waitKey(0)\n",
    "print(key,' -- ',chr(key))\n",
    "cv2.destroyAllWindows()"
   ]
  },
  {
   "cell_type": "markdown",
   "metadata": {},
   "source": [
    "### *The function is working properly, here the key variable stores an integer, which is actually the ascii value of the key I pressed to close the image!*\n",
    "## **Now Let's make a Class for the Game!**"
   ]
  },
  {
   "cell_type": "code",
   "execution_count": null,
   "metadata": {},
   "outputs": [],
   "source": [
    "class Dino_Game :\n",
    "    \n",
    "    # Constructer Function, called every time when an object is created!\n",
    "    def __init__(self, path):\n",
    "        \n",
    "        # These all are the properties of each object!\n",
    "        image = cv2.imread(path)\n",
    "        self.image = image\n",
    "        self.height = image.shape[0]\n",
    "        self.width = image.shape[1]\n",
    "        self.location = None\n",
    "        \n",
    "    # This function do the template matching of the object image in the screenshort of your screen!\n",
    "    def match(self, screen_img):\n",
    "        \n",
    "        # Here we use cv2.TM_CCOEFF_NORMED method, but you have to perform many trials before choosing the perfect method.\n",
    "        result = cv2.matchTemplate(screen_img, self.image, cv2.TM_CCOEFF_NORMED)\n",
    "        min_value, max_value, min_loc, max_loc = cv2.minMaxLoc(result)\n",
    "        \n",
    "        # Coordinate of the Top Left match template in the screen!\n",
    "        top_left = max_loc\n",
    "        \n",
    "        # Coordinate of the Bottom Right match template in the screen!\n",
    "        bottom_right = (max_loc[0]+self.width, max_loc[1]+self.height)\n",
    "        \n",
    "        # Threshold is the probability of how much the image is similar with other image!\n",
    "        # Compare it's probability with the desirable threshold!\n",
    "        if max_value > 0.85 :\n",
    "            self.location = (top_left, bottom_right)\n",
    "            return True\n",
    "        else :\n",
    "            self.location = None\n",
    "            return False"
   ]
  },
  {
   "cell_type": "markdown",
   "metadata": {},
   "source": [
    "## **Now, Let's add all the objects present in the Dino Game into our class!**"
   ]
  },
  {
   "cell_type": "code",
   "execution_count": null,
   "metadata": {},
   "outputs": [],
   "source": [
    "# Make a list of players\n",
    "Dino = Dino_Game('dino.png')\n",
    "\n",
    "# Make a list of enemies\n",
    "Enemies = [Dino_Game('cact1.png'), Dino_Game('cact2.png'), Dino_Game('cact3.png'), Dino_Game('cact4.png'),\n",
    "           Dino_Game('cact5.png'), Dino_Game('bird.png'), Dino_Game('bird1.png'), Dino_Game('bird2.png')]"
   ]
  },
  {
   "cell_type": "markdown",
   "metadata": {},
   "source": [
    "## **We need to import two more libraries!**\n",
    "### *time and pyautogui*"
   ]
  },
  {
   "cell_type": "code",
   "execution_count": null,
   "metadata": {},
   "outputs": [],
   "source": [
    "import time \n",
    "\n",
    "# If the library does not exists in your system the below code will download it automatically!\n",
    "# !pip install pyautogui\n",
    "\n",
    "import pyautogui as pag"
   ]
  },
  {
   "cell_type": "markdown",
   "metadata": {},
   "source": [
    "## **We will use the following Functions**\n",
    "## **Function: time.time()**\n",
    "### *The time() function returns the number of seconds passed since epoch.<br>For Unix system, January 1, 1970, 00:00:00 at UTC is epoch (the point where time begins).* "
   ]
  },
  {
   "cell_type": "code",
   "execution_count": null,
   "metadata": {},
   "outputs": [],
   "source": [
    "seconds = time.time()\n",
    "print(\"Seconds since epoch =\", seconds)"
   ]
  },
  {
   "cell_type": "markdown",
   "metadata": {},
   "source": [
    "## **Function: pag.press(key)**\n",
    "### *This function is use to perform the key press event(simulate pressing a key down and then releasing it up)<br> enter the name of the key tobe pressed as a string.* "
   ]
  },
  {
   "cell_type": "code",
   "execution_count": null,
   "metadata": {},
   "outputs": [],
   "source": [
    "pag.press(['enter','shift'])"
   ]
  },
  {
   "cell_type": "code",
   "execution_count": null,
   "metadata": {},
   "outputs": [],
   "source": [
    "print(\"Let's see if the above code can run this cell!\")"
   ]
  },
  {
   "cell_type": "markdown",
   "metadata": {},
   "source": [
    "#### *we will use the above function to make the dino jump!*\n",
    "## **Now Let's integrate all to play the game!**"
   ]
  },
  {
   "cell_type": "code",
   "execution_count": null,
   "metadata": {},
   "outputs": [],
   "source": [
    "# as the time passes the speed of the game will increase and we have to jump earlier!\n",
    "speed = 4\n",
    "\n",
    "# acceleration\n",
    "acceleration = 0.36\n",
    "\n",
    "# the threshold at which we have to jump!\n",
    "distanceThreshold = 156\n",
    "\n",
    "# First we will check the dino icon in the screen and start the game!\n",
    "\n",
    "while True :\n",
    "\n",
    "    # Take the screenshot of the screen\n",
    "    screen = grab_screen()\n",
    "\n",
    "    # Match the dino template(detect)\n",
    "    if Dino.match(screen):\n",
    "        if Dino.location != None :\n",
    "            topleft_x = int(Dino.location[0][0] - 0.25*Dino.width)\n",
    "            topleft_y = int(Dino.location[0][1] - 2.65*Dino.height)\n",
    "            bottomRight_x = int(Dino.location[1][0] + 10.25*Dino.width)\n",
    "            bottomRight_y = int(Dino.location[1][1] + 0.3*Dino.height)\n",
    "            TopLeft = (topleft_x, topleft_y)\n",
    "            BottomRight = (bottomRight_x, bottomRight_y)\n",
    "            break\n",
    "\n",
    "# press space to start\n",
    "pag.press('space')\n",
    "\n",
    "# Time when you started the game\n",
    "startTime = time.time()\n",
    "\n",
    "# previous time(time before the action)\n",
    "prevTime = time.time()\n",
    "\n",
    "# Now the game is started \n",
    "while True :\n",
    "\n",
    "    # we will select a small area from the screen, we will use that area to detect the enemies\n",
    "    main_panal = grab_screen(bbox=(TopLeft[0], TopLeft[1], BottomRight[0], BottomRight[1]))\n",
    "\n",
    "    # as the time progreses the speed of the game also increases, so we have to increase the distanceThreshold\n",
    "    if time.time() - startTime > 12 and Dino.location:\n",
    "        speed += speed*acceleration\n",
    "        distanceThreshold += speed\n",
    "        startTime = prevTime\n",
    "        prevTime = time.time()\n",
    "\n",
    "    if Dino.match(main_panal):\n",
    "        if Dino.location:\n",
    "            cv2.rectangle(main_panal, Dino.location[0], Dino.location[1], (255,0,0), 2)\n",
    "\n",
    "    # Detect enemies from the given list\n",
    "    for enemy in Enemies :\n",
    "        if enemy.match(main_panal):\n",
    "            cv2.rectangle(main_panal, enemy.location[0], enemy.location[1], (0,0,255), 2)\n",
    "            if Dino.location:\n",
    "                horizontalDistance = enemy.location[0][0] - Dino.location[1][0]\n",
    "                verticalDistance = Dino.location[0][1] - enemy.location[1][1]\n",
    "\n",
    "                if horizontalDistance <= distanceThreshold and horizontalDistance >= 0: \n",
    "                    \n",
    "                    # if the enemie is above the dino head then we don't have to jump\n",
    "                    if verticalDistance <= 0 :\n",
    "                        pag.press('space')\n",
    "                        break\n",
    "                        \n",
    "    # show the selected area\n",
    "    cv2.imshow(\"Screen\", main_panal)\n",
    "\n",
    "    # If we press key q, then the program will stop\n",
    "    if cv2.waitKey(1) == ord('q') :\n",
    "        cv2.destroyAllWindows()\n",
    "        break"
   ]
  },
  {
   "cell_type": "code",
   "execution_count": null,
   "metadata": {},
   "outputs": [],
   "source": []
  }
 ],
 "metadata": {
  "kernelspec": {
   "display_name": "Python 3",
   "language": "python",
   "name": "python3"
  },
  "language_info": {
   "codemirror_mode": {
    "name": "ipython",
    "version": 3
   },
   "file_extension": ".py",
   "mimetype": "text/x-python",
   "name": "python",
   "nbconvert_exporter": "python",
   "pygments_lexer": "ipython3",
   "version": "3.8.5"
  }
 },
 "nbformat": 4,
 "nbformat_minor": 4
}
