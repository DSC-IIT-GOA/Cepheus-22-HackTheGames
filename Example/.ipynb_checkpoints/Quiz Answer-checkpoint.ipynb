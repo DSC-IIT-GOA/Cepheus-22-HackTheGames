{
 "cells": [
  {
   "cell_type": "markdown",
   "id": "43051854",
   "metadata": {},
   "source": [
    "# <center>Examples/Question Use in The Warkshop !!</center>\n",
    "                                                                                                          -- HackTheGames\n",
    "## Question 1"
   ]
  },
  {
   "cell_type": "code",
   "execution_count": null,
   "id": "f61e7c91",
   "metadata": {},
   "outputs": [],
   "source": [
    "import cv2\n",
    "import matplotlib.pyplot as plt\n",
    "import numpy as np"
   ]
  },
  {
   "cell_type": "code",
   "execution_count": null,
   "id": "7986e63c",
   "metadata": {},
   "outputs": [],
   "source": [
    "source_img = cv2.imread(\"q1.png\", cv2.IMREAD_COLOR)\n",
    "template_img = cv2.imread(\"t1.jpg\", cv2.IMREAD_UNCHANGED)"
   ]
  },
  {
   "cell_type": "code",
   "execution_count": null,
   "id": "e5da840c",
   "metadata": {},
   "outputs": [],
   "source": [
    "source_img = cv2.cvtColor(source_img, cv2.COLOR_BGR2RGB)\n",
    "template_img = cv2.cvtColor(template_img, cv2.COLOR_BGR2RGB)"
   ]
  },
  {
   "cell_type": "code",
   "execution_count": null,
   "id": "a343521e",
   "metadata": {},
   "outputs": [],
   "source": [
    "plt.figure(figsize=(18,18))\n",
    "plt.subplot(1,2,1)\n",
    "plt.imshow(source_img)\n",
    "\n",
    "plt.figure(figsize=(4,5))\n",
    "plt.subplot(1,2,2)\n",
    "plt.imshow(template_img)\n",
    "\n",
    "plt.show()"
   ]
  },
  {
   "cell_type": "markdown",
   "id": "7a908d07",
   "metadata": {},
   "source": [
    "### Find Odd One Out!!"
   ]
  },
  {
   "cell_type": "code",
   "execution_count": null,
   "id": "cb908f2c",
   "metadata": {},
   "outputs": [],
   "source": [
    "result_img = cv2.matchTemplate(source_img,template_img, cv2.TM_CCOEFF_NORMED)"
   ]
  },
  {
   "cell_type": "code",
   "execution_count": null,
   "id": "f1c21558",
   "metadata": {},
   "outputs": [],
   "source": [
    "threshold = 0.98\n",
    "\n",
    "w = template_img.shape[1]\n",
    "h = template_img.shape[0]"
   ]
  },
  {
   "cell_type": "code",
   "execution_count": null,
   "id": "b7d0ae78",
   "metadata": {},
   "outputs": [],
   "source": [
    "yloc, xloc = np.where(result_img >= threshold)"
   ]
  },
  {
   "cell_type": "code",
   "execution_count": null,
   "id": "4521c830",
   "metadata": {},
   "outputs": [],
   "source": [
    "rectangles = []\n",
    "\n",
    "for (x, y) in zip(xloc, yloc):\n",
    "    # each rectangle will have x,y coordinates, width, height of the rectangle.\n",
    "    rectangles.append([int(x), int(y), int(w), int(h)])\n",
    "    rectangles.append([int(x), int(y), int(w), int(h)])\n",
    "    \n",
    "len(rectangles)"
   ]
  },
  {
   "cell_type": "code",
   "execution_count": null,
   "id": "248e00a5",
   "metadata": {},
   "outputs": [],
   "source": [
    "rectangles, weights = cv2.groupRectangles(rectangles, 1, 0.2)\n",
    "\n",
    "len(rectangles)"
   ]
  },
  {
   "cell_type": "code",
   "execution_count": null,
   "id": "c91f0814",
   "metadata": {},
   "outputs": [],
   "source": [
    "copy_img = source_img.copy()\n",
    "\n",
    "\n",
    "for (x, y, w, h) in rectangles:\n",
    "    cv2.rectangle(copy_img, (x + 1, y + 1), (x + w - 3, y + h - 3), (0,255,255), 2)\n",
    "    \n",
    "plt.figure(figsize=(15,15))\n",
    "plt.subplot(1,1,1)\n",
    "plt.imshow(copy_img)\n",
    "plt.show()"
   ]
  },
  {
   "cell_type": "markdown",
   "id": "d53c5fe5",
   "metadata": {},
   "source": [
    "### We Detected All The Similar Type Of Emojies!!\n",
    "## Question 2"
   ]
  },
  {
   "cell_type": "code",
   "execution_count": null,
   "id": "4f4d8069",
   "metadata": {},
   "outputs": [],
   "source": [
    "source_img = cv2.imread(\"q2.jpg\", cv2.IMREAD_COLOR)\n",
    "template_img = cv2.imread(\"t2.jpg\", cv2.IMREAD_UNCHANGED)\n",
    "\n",
    "source_img = cv2.cvtColor(source_img, cv2.COLOR_BGR2RGB)\n",
    "template_img = cv2.cvtColor(template_img, cv2.COLOR_BGR2RGB)"
   ]
  },
  {
   "cell_type": "code",
   "execution_count": null,
   "id": "26437e64",
   "metadata": {},
   "outputs": [],
   "source": [
    "plt.figure(figsize=(18,18))\n",
    "plt.subplot(1,2,1)\n",
    "plt.imshow(source_img)\n",
    "\n",
    "plt.figure(figsize=(4,5))\n",
    "plt.subplot(1,2,2)\n",
    "plt.imshow(template_img)\n",
    "\n",
    "plt.show()"
   ]
  },
  {
   "cell_type": "markdown",
   "id": "c35b5bcd",
   "metadata": {},
   "source": [
    "### Find Odd One Out!!"
   ]
  },
  {
   "cell_type": "code",
   "execution_count": null,
   "id": "cd82572b",
   "metadata": {},
   "outputs": [],
   "source": [
    "result_img = cv2.matchTemplate(source_img,template_img, cv2.TM_CCOEFF_NORMED)\n",
    "\n",
    "threshold = 0.96\n",
    "\n",
    "w = template_img.shape[1]\n",
    "h = template_img.shape[0]"
   ]
  },
  {
   "cell_type": "code",
   "execution_count": null,
   "id": "1026eef8",
   "metadata": {},
   "outputs": [],
   "source": [
    "yloc, xloc = np.where(result_img >= threshold)\n",
    "\n",
    "rectangles = []\n",
    "\n",
    "for (x, y) in zip(xloc, yloc):\n",
    "    # each rectangle will have x,y coordinates, width, height of the rectangle.\n",
    "    rectangles.append([int(x), int(y), int(w), int(h)])\n",
    "    rectangles.append([int(x), int(y), int(w), int(h)])\n",
    "    \n",
    "len(rectangles)"
   ]
  },
  {
   "cell_type": "code",
   "execution_count": null,
   "id": "b0909432",
   "metadata": {},
   "outputs": [],
   "source": [
    "rectangles, weights = cv2.groupRectangles(rectangles, 1, 0.2)\n",
    "\n",
    "len(rectangles)"
   ]
  },
  {
   "cell_type": "code",
   "execution_count": null,
   "id": "11005d06",
   "metadata": {},
   "outputs": [],
   "source": [
    "copy_img = source_img.copy()\n",
    "\n",
    "\n",
    "for (x, y, w, h) in rectangles:\n",
    "    cv2.rectangle(copy_img, (x, y), (x + w, y + h), (0,255,200), 9)\n",
    "    \n",
    "plt.figure(figsize=(15,15))\n",
    "plt.subplot(1,1,1)\n",
    "plt.imshow(copy_img)\n",
    "plt.show()"
   ]
  },
  {
   "cell_type": "markdown",
   "id": "eaa7f228",
   "metadata": {},
   "source": [
    "### We Detected All The Similar Type Of Emojies!!\n",
    "## Question 3"
   ]
  },
  {
   "cell_type": "code",
   "execution_count": null,
   "id": "a7821b51",
   "metadata": {},
   "outputs": [],
   "source": [
    "source_img = cv2.imread(\"q3.jpg\", cv2.IMREAD_COLOR)\n",
    "template_img = cv2.imread(\"t3.jpg\", cv2.IMREAD_UNCHANGED)\n",
    "\n",
    "source_img = cv2.cvtColor(source_img, cv2.COLOR_BGR2RGB)\n",
    "template_img = cv2.cvtColor(template_img, cv2.COLOR_BGR2RGB)"
   ]
  },
  {
   "cell_type": "code",
   "execution_count": null,
   "id": "9f772419",
   "metadata": {},
   "outputs": [],
   "source": [
    "plt.figure(figsize=(18,18))\n",
    "plt.subplot(1,2,1)\n",
    "plt.imshow(source_img)\n",
    "\n",
    "plt.figure(figsize=(4,5))\n",
    "plt.subplot(1,2,2)\n",
    "plt.imshow(template_img)\n",
    "\n",
    "plt.show()"
   ]
  },
  {
   "cell_type": "markdown",
   "id": "633b7a36",
   "metadata": {},
   "source": [
    "## Detect C in All O's"
   ]
  },
  {
   "cell_type": "code",
   "execution_count": null,
   "id": "fe0101a1",
   "metadata": {},
   "outputs": [],
   "source": [
    "result_img = cv2.matchTemplate(source_img,template_img, cv2.TM_CCOEFF_NORMED)\n",
    "\n",
    "w = template_img.shape[1]\n",
    "h = template_img.shape[0]"
   ]
  },
  {
   "cell_type": "code",
   "execution_count": null,
   "id": "b6565ff5",
   "metadata": {},
   "outputs": [],
   "source": [
    "min_val, max_val, min_loc, max_loc = cv2.minMaxLoc(result_img)"
   ]
  },
  {
   "cell_type": "code",
   "execution_count": null,
   "id": "85d5613f",
   "metadata": {},
   "outputs": [],
   "source": [
    "copy_1 = source_img.copy()\n",
    "try_img = cv2.rectangle(copy_1, (max_loc[0], max_loc[1] - 2), (max_loc[0] + w + 3, max_loc[1] + h + 3), (0,255,255), 2)\n",
    "\n",
    "plt.figure(figsize=(12,12))\n",
    "plt.subplot(1,1,1)\n",
    "plt.imshow(try_img)\n",
    "plt.show()"
   ]
  },
  {
   "cell_type": "markdown",
   "id": "49061762",
   "metadata": {},
   "source": [
    "### C Detected"
   ]
  }
 ],
 "metadata": {
  "kernelspec": {
   "display_name": "Python 3",
   "language": "python",
   "name": "python3"
  },
  "language_info": {
   "codemirror_mode": {
    "name": "ipython",
    "version": 3
   },
   "file_extension": ".py",
   "mimetype": "text/x-python",
   "name": "python",
   "nbconvert_exporter": "python",
   "pygments_lexer": "ipython3",
   "version": "3.8.5"
  }
 },
 "nbformat": 4,
 "nbformat_minor": 5
}
