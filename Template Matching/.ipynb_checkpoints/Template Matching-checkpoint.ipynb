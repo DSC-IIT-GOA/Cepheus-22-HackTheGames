{
 "cells": [
  {
   "cell_type": "markdown",
   "metadata": {},
   "source": [
    "# <center>Template Matching</center>\n",
    "                                                                                                         \n",
    "                                                                                                         -- HackTheGames\n",
    "## **First, check whether the opencv library is present or not in your system!**\n",
    "### *If the library doesnot exists in your system the below code will download it automatically.*"
   ]
  },
  {
   "cell_type": "code",
   "execution_count": null,
   "metadata": {},
   "outputs": [],
   "source": [
    "!pip install opencv-python"
   ]
  },
  {
   "cell_type": "markdown",
   "metadata": {},
   "source": [
    "## **After the Library is installed in your system, we have to import it into this script!**\n",
    "### *We will import 2 librarys: numpy and cv2(We installed it into our system just now)*"
   ]
  },
  {
   "cell_type": "code",
   "execution_count": null,
   "metadata": {},
   "outputs": [],
   "source": [
    "import cv2\n",
    "import numpy as np"
   ]
  },
  {
   "cell_type": "markdown",
   "metadata": {},
   "source": [
    "## **Let's first see our source image and the template image!**\n",
    "### *we will use cv2.imread function to store the images in a variable*"
   ]
  },
  {
   "cell_type": "code",
   "execution_count": null,
   "metadata": {},
   "outputs": [],
   "source": [
    "# Here we are simple passing the path in the function, if you want you can explore more by using help() function\n",
    "# Here we used the cv2.IMREAD_UNCHANGED function to make sure the image is stored as a colored image,\n",
    "# If you want the image to be grayscale then just replace it by 0.        \n",
    "source_img = cv2.imread(\"HackTheGames.png\", cv2.IMREAD_COLOR)\n",
    "\n",
    "template_img = cv2.imread(\"Template.png\", cv2.IMREAD_UNCHANGED)"
   ]
  },
  {
   "cell_type": "markdown",
   "metadata": {},
   "source": [
    "## **Now, let's display both the images!**\n",
    "### *Source Image.*"
   ]
  },
  {
   "cell_type": "code",
   "execution_count": null,
   "metadata": {},
   "outputs": [],
   "source": [
    "cv2.imshow('Source',source_img)\n",
    "cv2.waitKey(0)\n",
    "cv2.destroyAllWindows()"
   ]
  },
  {
   "cell_type": "markdown",
   "metadata": {},
   "source": [
    "### *Template Image.*"
   ]
  },
  {
   "cell_type": "code",
   "execution_count": null,
   "metadata": {},
   "outputs": [],
   "source": [
    "cv2.imshow('Template',template_img)\n",
    "cv2.waitKey(0)\n",
    "cv2.destroyAllWindows()"
   ]
  },
  {
   "cell_type": "markdown",
   "metadata": {},
   "source": [
    "## **If you want to see both the Images together in the output itself!**\n",
    "### *We can use the matplotlib.pypolt module.*"
   ]
  },
  {
   "cell_type": "code",
   "execution_count": null,
   "metadata": {},
   "outputs": [],
   "source": [
    "import matplotlib.pyplot as plt\n",
    "\n",
    "plt.figure(figsize=(20,20))\n",
    "plt.subplot(1,2,1)\n",
    "plt.imshow(source_img)\n",
    "\n",
    "plt.figure(figsize=(6,6))\n",
    "plt.subplot(1,2,2)\n",
    "plt.imshow(template_img)\n",
    "\n",
    "plt.show()"
   ]
  },
  {
   "cell_type": "markdown",
   "metadata": {},
   "source": [
    "## **Why is the Colour different?**\n",
    "### **Because opencv Reads and Stores the image as BGR not as RGB.**\n",
    "### **Let's first convert the BGR Image into RGB.**\n",
    "#### **As the opencv uses the image in BGR, but the pyplot uses the image in RGB.**"
   ]
  },
  {
   "cell_type": "code",
   "execution_count": null,
   "metadata": {},
   "outputs": [],
   "source": [
    "source_img = cv2.cvtColor(source_img, cv2.COLOR_BGR2RGB)\n",
    "template_img = cv2.cvtColor(template_img, cv2.COLOR_BGR2RGB)\n",
    "\n",
    "plt.figure(figsize=(20,20))\n",
    "plt.subplot(1,2,1)\n",
    "plt.imshow(source_img)\n",
    "\n",
    "plt.figure(figsize=(6,6))\n",
    "plt.subplot(1,2,2)\n",
    "plt.imshow(template_img)\n",
    "\n",
    "plt.show()"
   ]
  },
  {
   "cell_type": "markdown",
   "metadata": {},
   "source": [
    "## **Since, we got the images now we can proceed to match the template image to the source image!**\n",
    "### *We have 6 different method to do the same matching.*"
   ]
  },
  {
   "cell_type": "code",
   "execution_count": null,
   "metadata": {},
   "outputs": [],
   "source": [
    "# All the 6 methods for comparison in a list\n",
    "\n",
    "method_list = ['cv2.TM_CCOEFF', 'cv2.TM_CCOEFF_NORMED', 'cv2.TM_CCORR','cv2.TM_CCORR_NORMED', 'cv2.TM_SQDIFF', 'cv2.TM_SQDIFF_NORMED']"
   ]
  },
  {
   "cell_type": "markdown",
   "metadata": {},
   "source": [
    "### **Let's first see how to use template matching!**"
   ]
  },
  {
   "cell_type": "code",
   "execution_count": null,
   "metadata": {},
   "outputs": [],
   "source": [
    "result = cv2.matchTemplate(source_img,template_img, cv2.TM_CCOEFF)\n",
    "\n",
    "cv2.imshow('Result',result)\n",
    "cv2.waitKey(0)\n",
    "cv2.destroyAllWindows()"
   ]
  },
  {
   "cell_type": "markdown",
   "metadata": {},
   "source": [
    "### **Let's load the same result image in the output!**"
   ]
  },
  {
   "cell_type": "code",
   "execution_count": null,
   "metadata": {},
   "outputs": [],
   "source": [
    "plt.figure(figsize=(12,12))\n",
    "plt.imshow(result)\n",
    "plt.show()"
   ]
  },
  {
   "cell_type": "markdown",
   "metadata": {},
   "source": [
    "#### *Here you can clearly see the bright dots in the image, these are the areas where the module detected the template image in the main/source image*<br>\n",
    "## **Let's Get the Best match in the source image and draw a rectangle around it!**\n",
    "### *We will use the .minMaxLoc() function.*\n",
    "### *This returns a tuple which contains the minimum value of a match, the maximum value of a match, minimum value location, maximum value location.!*"
   ]
  },
  {
   "cell_type": "code",
   "execution_count": null,
   "metadata": {},
   "outputs": [],
   "source": [
    "min_val, max_val, min_loc, max_loc = cv2.minMaxLoc(result)"
   ]
  },
  {
   "cell_type": "markdown",
   "metadata": {},
   "source": [
    "## **But before we start drawing the rectangle around the source image we need the parameters of the rectange!**\n",
    "### *First we will get the length and width of the template image.*"
   ]
  },
  {
   "cell_type": "code",
   "execution_count": null,
   "metadata": {},
   "outputs": [],
   "source": [
    "width = template_img.shape[1]\n",
    "height = template_img.shape[0]"
   ]
  },
  {
   "cell_type": "markdown",
   "metadata": {},
   "source": [
    "## **Now we are ready to draw a rectangle!**\n",
    "### *Here we used the maximum location value which is a tuple which contains the x,y coordinates of the best match.*\n",
    "### *in cv2.rectangle we required the top left coordinate and the bottom left coordinate of the rectangle.*"
   ]
  },
  {
   "cell_type": "code",
   "execution_count": null,
   "metadata": {},
   "outputs": [],
   "source": [
    "copy_1 = source_img.copy()\n",
    "try_img = cv2.rectangle(copy_1, max_loc, (max_loc[0] + width, max_loc[1] + height), (0,255,255), 2)\n",
    "# First convert the BGR colour of the image into the RGB image.\n",
    "try_img = cv2.cvtColor(try_img, cv2.COLOR_BGR2RGB)\n",
    "cv2.imshow('Final',try_img)\n",
    "cv2.waitKey(0)\n",
    "cv2.destroyAllWindows()"
   ]
  },
  {
   "cell_type": "markdown",
   "metadata": {},
   "source": [
    "### *Let's get the output image here*"
   ]
  },
  {
   "cell_type": "code",
   "execution_count": null,
   "metadata": {},
   "outputs": [],
   "source": [
    "# First convert the BGR colour of the image into the RGB image.\n",
    "try_img = cv2.cvtColor(try_img, cv2.COLOR_BGR2RGB)\n",
    "plt.figure(figsize=(12,12))\n",
    "plt.subplot(1,1,1)\n",
    "plt.imshow(try_img)\n",
    "plt.show()"
   ]
  },
  {
   "cell_type": "markdown",
   "metadata": {},
   "source": [
    "# **Warning!!**<br>\n",
    "### **Be carefull while using the maximum location coordinates, it will not always give you the right result.**\n",
    "### **Not all the methods used in the template detection will provide the best outcome at the max_loc.**\n",
    "### **These two method: cv2.TM_SQDIFF and cv2.TM_SQDIFF_NORMED gives the best result at the min_loc.**\n",
    "### *let's check how*"
   ]
  },
  {
   "cell_type": "code",
   "execution_count": null,
   "metadata": {},
   "outputs": [],
   "source": [
    "check_img = cv2.matchTemplate(source_img,template_img, cv2.TM_SQDIFF_NORMED)\n",
    "\n",
    "plt.figure(figsize=(10,10))\n",
    "plt.imshow(check_img)\n",
    "plt.show()"
   ]
  },
  {
   "cell_type": "markdown",
   "metadata": {},
   "source": [
    "### **Let's see the position of the rectangle when we use the minimum location coordinates!**"
   ]
  },
  {
   "cell_type": "code",
   "execution_count": null,
   "metadata": {},
   "outputs": [],
   "source": [
    "min_val, max_val, min_loc, max_loc = cv2.minMaxLoc(check_img)\n",
    "\n",
    "copy_2 = source_img.copy()\n",
    "try1_img = cv2.rectangle(copy_2, min_loc, (min_loc[0] + width, min_loc[1] + height), (0,255,255), 2)\n",
    "\n",
    "plt.figure(figsize=(12,12))\n",
    "plt.imshow(try1_img)\n",
    "plt.show()"
   ]
  },
  {
   "cell_type": "markdown",
   "metadata": {},
   "source": [
    "### *But not all the methods will give you the desired output!!*\n",
    "## **Now, That we know that not all the methods for template detection will provide us the desirable outcome!**<br>\n",
    "### **So, how would we know which one is best for us?**\n",
    "### **We can do one thing!**\n",
    "### **Let's apply all these methods and find which one is the best for us!**"
   ]
  },
  {
   "cell_type": "code",
   "execution_count": null,
   "metadata": {
    "scrolled": false
   },
   "outputs": [],
   "source": [
    "for method in method_list :\n",
    "    \n",
    "    final_img = cv2.matchTemplate(source_img, template_img, eval(method))\n",
    "\n",
    "    min_val, max_val, min_loc, max_loc = cv2.minMaxLoc(final_img)\n",
    "\n",
    "    copy_img = source_img.copy()\n",
    "    \n",
    "    if method not in ['cv2.TM_SQDIFF', 'cv2.TM_SQDIFF_NORMED']:\n",
    "        final_try_img = cv2.rectangle(copy_img, max_loc, (max_loc[0] + width, max_loc[1] + height), (0,255,255), 2)\n",
    "    else :\n",
    "        final_try_img = cv2.rectangle(copy_img, min_loc, (min_loc[0] + width, min_loc[1] + height), (0,255,255), 2)\n",
    "    \n",
    "    print(f\" # Method used to Detect : {method}\")\n",
    "    plt.figure(figsize=(10,10))\n",
    "    plt.subplot(1,1,1)\n",
    "    plt.imshow(final_try_img)\n",
    "    plt.show()"
   ]
  },
  {
   "cell_type": "markdown",
   "metadata": {},
   "source": [
    "### **Now that you are comfortable in detecting single templete image in a source image!**\n",
    "### **Let's see another example and then we will move to detect multible template images in a single image!**"
   ]
  },
  {
   "cell_type": "code",
   "execution_count": null,
   "metadata": {
    "scrolled": false
   },
   "outputs": [],
   "source": [
    "source_img = cv2.imread(\"HackTheGames.png\")\n",
    "template_img = [cv2.imread(\"Hack.png\"),cv2.imread(\"The.png\"),cv2.imread(\"Game.png\")]\n",
    "\n",
    "source_img = cv2.cvtColor(source_img, cv2.COLOR_RGB2BGR)\n",
    "template_img = [cv2.cvtColor(t_img, cv2.COLOR_RGB2BGR) for t_img in template_img]\n",
    "\n",
    "plt.figure(figsize=(10,10))\n",
    "plt.subplot(1,1,1)\n",
    "plt.imshow(source_img)\n",
    "\n",
    "plt.figure(figsize=(10,10))\n",
    "\n",
    "for i,img in enumerate(template_img) :\n",
    "    plt.subplot(1,3,1+i)\n",
    "    plt.imshow(img)\n",
    "\n",
    "plt.show()"
   ]
  },
  {
   "cell_type": "code",
   "execution_count": null,
   "metadata": {
    "scrolled": false
   },
   "outputs": [],
   "source": [
    "h_w= [(image.shape[0],image.shape[1]) for image in template_img]\n",
    "\n",
    "colour = [(0,255,255),(255,0,255),(255,255,0)] \n",
    "\n",
    "for method in method_list :\n",
    "    \n",
    "    copy_img = source_img.copy()\n",
    "    \n",
    "    for j in range(3) :\n",
    "\n",
    "        final_img = cv2.matchTemplate(copy_img, template_img[j], eval(method))\n",
    "\n",
    "        min_val, max_val, min_loc, max_loc = cv2.minMaxLoc(final_img)\n",
    "\n",
    "        if method not in ['cv2.TM_SQDIFF', 'cv2.TM_SQDIFF_NORMED']:\n",
    "            copy_img = cv2.rectangle(copy_img, max_loc, (max_loc[0] + h_w[j][1], max_loc[1] + h_w[j][0]), colour[j], 3)\n",
    "        else :\n",
    "            copy_img = cv2.rectangle(copy_img, min_loc, (min_loc[0] + h_w[j][1], min_loc[1] + h_w[j][0]), colour[j], 3)\n",
    "\n",
    "    print(f\" # Method used to Detect : {method}\")\n",
    "    plt.figure(figsize=(10,10))\n",
    "    plt.imshow(copy_img)\n",
    "    plt.show()"
   ]
  },
  {
   "cell_type": "markdown",
   "metadata": {},
   "source": [
    "## **Let's Detect Multiple template images in a single source image!**<br>"
   ]
  },
  {
   "cell_type": "code",
   "execution_count": null,
   "metadata": {},
   "outputs": [],
   "source": [
    "source_img = cv2.imread(\"card_diamond_5.jpg\")\n",
    "template_img = cv2.imread(\"card_template.jpg\")\n",
    "\n",
    "source_img = cv2.cvtColor(source_img, cv2.COLOR_RGB2BGR)\n",
    "template_img = cv2.cvtColor(template_img, cv2.COLOR_RGB2BGR)\n",
    "\n",
    "plt.figure(figsize=(10,10))\n",
    "plt.subplot(1,2,1)\n",
    "plt.imshow(source_img)\n",
    "\n",
    "plt.figure(figsize=(2.5,2.5))\n",
    "plt.subplot(1,2,2)\n",
    "plt.imshow(template_img)\n",
    "\n",
    "plt.show()"
   ]
  },
  {
   "cell_type": "markdown",
   "metadata": {},
   "source": [
    "## **Let's Detect all the diamond shape in the card!**\n",
    "### **First we will use anyone of the method to understand the working.**\n",
    "### **Then we will check for all the methods to see which one is best for us!**"
   ]
  },
  {
   "cell_type": "code",
   "execution_count": null,
   "metadata": {},
   "outputs": [],
   "source": [
    "result_img = cv2.matchTemplate(source_img,template_img, cv2.TM_CCOEFF_NORMED)"
   ]
  },
  {
   "cell_type": "markdown",
   "metadata": {},
   "source": [
    "## **Now, this result_img is a probability matrix.**\n",
    "### **This means this matrix contain the probability of \"how much that location is similar to the template image.**\n",
    "### **Thus we can use this matrix to get the location's coordinates whose probability is above certain value!**\n",
    "### **This value is also known as the \"threshold\"!**\n",
    "### *The value of the threshold depends on your requirement and you need to try different values to get the perfect result.*"
   ]
  },
  {
   "cell_type": "code",
   "execution_count": null,
   "metadata": {},
   "outputs": [],
   "source": [
    "# Let's fix the threshold \n",
    "\n",
    "threshold = 0.75"
   ]
  },
  {
   "cell_type": "markdown",
   "metadata": {},
   "source": [
    "### **We will use the numpy.where() function to get the x and y coordinates in the form of a list!**"
   ]
  },
  {
   "cell_type": "code",
   "execution_count": null,
   "metadata": {},
   "outputs": [],
   "source": [
    "yloc, xloc = np.where(result_img >= threshold)"
   ]
  },
  {
   "cell_type": "markdown",
   "metadata": {},
   "source": [
    "### **Now we will use these coordinates to detect the template image in the source image!**"
   ]
  },
  {
   "cell_type": "code",
   "execution_count": null,
   "metadata": {},
   "outputs": [],
   "source": [
    "w = template_img.shape[1]\n",
    "h = template_img.shape[0]\n",
    "\n",
    "copy_img = source_img.copy()\n",
    "\n",
    "for (x, y) in zip(xloc, yloc):\n",
    "    cv2.rectangle(copy_img, (x, y), (x + w, y + h), (0,255,255), 2)\n",
    "    \n",
    "plt.figure(figsize=(5,5))\n",
    "plt.subplot(1,1,1)\n",
    "plt.imshow(copy_img)\n",
    "plt.show()"
   ]
  },
  {
   "cell_type": "markdown",
   "metadata": {},
   "source": [
    "## **This is not what we are expecting!?**\n",
    "## **The borders are too thick!**\n",
    "## **What went wrong??**\n",
    "### **Well let's try to detect the best match!**"
   ]
  },
  {
   "cell_type": "code",
   "execution_count": null,
   "metadata": {},
   "outputs": [],
   "source": [
    "min_val, max_val, min_loc, max_loc = cv2.minMaxLoc(result_img)"
   ]
  },
  {
   "cell_type": "code",
   "execution_count": null,
   "metadata": {},
   "outputs": [],
   "source": [
    "copy_img = source_img.copy()\n",
    "try_1 = cv2.rectangle(copy_img, (max_loc[0], max_loc[1]), (max_loc[0] + w, max_loc[1] + h), (0,255,255), 2) \n",
    "plt.figure(figsize=(5,5))\n",
    "plt.subplot(1,1,1)\n",
    "plt.imshow(try_1)\n",
    "plt.show()"
   ]
  },
  {
   "cell_type": "markdown",
   "metadata": {},
   "source": [
    "### **Well, This is showing correctly, here the borders are fine!**\n",
    "### **Then what went wrong in the previous code!??**\n",
    "### **Let's check how many x and y coordinates we have in our xloc list!**"
   ]
  },
  {
   "cell_type": "code",
   "execution_count": null,
   "metadata": {},
   "outputs": [],
   "source": [
    "len(xloc)"
   ]
  },
  {
   "cell_type": "markdown",
   "metadata": {},
   "source": [
    "## **Ohh!! so the problem lies here then!!**\n",
    "### **How can we fix this problem??**\n",
    "### **firstly, we can reduce the threshold value.**\n",
    "### *Let's try this first!!*"
   ]
  },
  {
   "cell_type": "code",
   "execution_count": null,
   "metadata": {},
   "outputs": [],
   "source": [
    "threshold = 0.9\n",
    "\n",
    "yloc, xloc = np.where(result_img >= threshold)\n",
    "\n",
    "len(xloc)"
   ]
  },
  {
   "cell_type": "markdown",
   "metadata": {},
   "source": [
    "## **Yup, this worked but still this is not the correct output we are expectiong!**\n",
    "### **Now what to do!??**\n",
    "## **Here comes the second solution!**\n",
    "## **Why the borders are thick?**\n",
    "### *Well they are thick due to the overlap of different borders.*\n",
    "### **Now we know what is the problem, we can find a solution also.**\n",
    "### **We can delete/remove those borders which are either dublicate or are very close to each other.**\n",
    "### *We will use the cv2.groupRectangles() function!*"
   ]
  },
  {
   "cell_type": "code",
   "execution_count": null,
   "metadata": {},
   "outputs": [],
   "source": [
    "# We will construct a list which contains all the coordinates of different borders/matches.\n",
    "\n",
    "rectangles = []\n",
    "\n",
    "for (x, y) in zip(xloc, yloc):\n",
    "    # each rectangle will have x,y coordinates, width, height of the rectangle.\n",
    "    rectangles.append([int(x), int(y), int(w), int(h)])\n",
    "    rectangles.append([int(x), int(y), int(w), int(h)])\n",
    "    \n",
    "len(rectangles)"
   ]
  },
  {
   "cell_type": "markdown",
   "metadata": {},
   "source": [
    "## **see we have twice the number of coordinates in this list, why?**\n",
    "### *This function will only work if there are duplication of all the elements in a list, so if something is unique in the list*\n",
    "### *it will create us problems, so we duplicate all elements.*"
   ]
  },
  {
   "cell_type": "code",
   "execution_count": null,
   "metadata": {},
   "outputs": [],
   "source": [
    "rectangles, weights = cv2.groupRectangles(rectangles, 1, 0.2)\n",
    "\n",
    "len(rectangles)"
   ]
  },
  {
   "cell_type": "markdown",
   "metadata": {},
   "source": [
    "## **Perfect!!**<br>\n",
    "### **There are exactly 5 matchecs!!!**\n",
    "### **Lets draws these on the source image!!**"
   ]
  },
  {
   "cell_type": "code",
   "execution_count": null,
   "metadata": {},
   "outputs": [],
   "source": [
    "copy_img = source_img.copy()\n",
    "\n",
    "\n",
    "for (x, y, w, h) in rectangles:\n",
    "    cv2.rectangle(copy_img, (x, y), (x + w, y + h), (0,255,255), 2)\n",
    "    \n",
    "plt.figure(figsize=(5,5))\n",
    "plt.subplot(1,1,1)\n",
    "plt.imshow(copy_img)\n",
    "plt.show()"
   ]
  },
  {
   "cell_type": "markdown",
   "metadata": {},
   "source": [
    "### *Nice, we detected them all!!*"
   ]
  }
 ],
 "metadata": {
  "kernelspec": {
   "display_name": "Python 3",
   "language": "python",
   "name": "python3"
  },
  "language_info": {
   "codemirror_mode": {
    "name": "ipython",
    "version": 3
   },
   "file_extension": ".py",
   "mimetype": "text/x-python",
   "name": "python",
   "nbconvert_exporter": "python",
   "pygments_lexer": "ipython3",
   "version": "3.8.5"
  }
 },
 "nbformat": 4,
 "nbformat_minor": 4
}
